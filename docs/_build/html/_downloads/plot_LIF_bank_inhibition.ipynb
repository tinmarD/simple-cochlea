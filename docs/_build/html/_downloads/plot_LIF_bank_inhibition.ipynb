{
  "cells": [
    {
      "cell_type": "code",
      "execution_count": null,
      "metadata": {
        "collapsed": false
      },
      "outputs": [],
      "source": [
        "%matplotlib inline"
      ]
    },
    {
      "cell_type": "markdown",
      "metadata": {},
      "source": [
        "\n#    LIB Bank with lateral Inhibition\n\n\nAnalysis of the implementation of the neural inhibition described in [1]. These different types of connection are\nsupposed to produce contrast enhancement, i.e. for the cochlea it can lead to a sharpening of its frequency sensitivity.\n\nFour types of inhibition are described :\n * Forward-subtractive inhibition\n * Backward-subtractive inhibition\n * Forward-shunting inhibition\n * Backward-shunting inhibition\n\n\nReferences\n----------\n\n.. [1] Gershon G. Furman and Lawrence S. Frishkopf. Model of Neural Inhibition in the Mammalian Cochlea.\n       The Journal of the Acoustical Society of America 1964 36:11, 2194-2201\n\n\n"
      ]
    },
    {
      "cell_type": "code",
      "execution_count": null,
      "metadata": {
        "collapsed": false
      },
      "outputs": [],
      "source": [
        "import numpy as np\nfrom simplecochlea import Cochlea\nfrom simplecochlea import generate_signals"
      ]
    },
    {
      "cell_type": "markdown",
      "metadata": {},
      "source": [
        "For testing the inhibition, we will use a signal composed of 3 sinusoids close in frequency\n\n"
      ]
    },
    {
      "cell_type": "code",
      "execution_count": null,
      "metadata": {
        "collapsed": false
      },
      "outputs": [],
      "source": [
        "fs = 44100\ntest_sig = generate_signals.generate_sinus(fs, f_sin=[1500, 2000, 2100], t_offset=[0.15, 0.1, 0.2], t_max=1)\ngenerate_signals.plot_signal(test_sig, fs)"
      ]
    },
    {
      "cell_type": "markdown",
      "metadata": {},
      "source": [
        "Construct the cochlea :\n\n"
      ]
    },
    {
      "cell_type": "code",
      "execution_count": null,
      "metadata": {
        "collapsed": false
      },
      "outputs": [],
      "source": [
        "fmin, fmax, freq_scale, n_channels = 200, 8000, 'erbscale', 1000\ncomp_factor, comp_gain = 0.3, 1.5\ntau, v_thresh, v_spike = np.linspace(0.001, 0.0004, n_channels), np.linspace(0.3, 0.17, n_channels), 0.5\n\ncochlea = Cochlea(n_channels, fs, fmin, fmax, freq_scale, comp_factor=comp_factor, comp_gain=comp_gain,\n                  lif_tau=tau, lif_v_thresh=v_thresh, lif_v_spike=v_spike)"
      ]
    }
  ],
  "metadata": {
    "kernelspec": {
      "display_name": "Python 3",
      "language": "python",
      "name": "python3"
    },
    "language_info": {
      "codemirror_mode": {
        "name": "ipython",
        "version": 3
      },
      "file_extension": ".py",
      "mimetype": "text/x-python",
      "name": "python",
      "nbconvert_exporter": "python",
      "pygments_lexer": "ipython3",
      "version": "3.6.5"
    }
  },
  "nbformat": 4,
  "nbformat_minor": 0
}