{
  "cells": [
    {
      "cell_type": "code",
      "execution_count": null,
      "metadata": {
        "collapsed": false
      },
      "outputs": [],
      "source": [
        "%matplotlib inline"
      ]
    },
    {
      "cell_type": "markdown",
      "metadata": {},
      "source": [
        "\n# Frequency Scale\n\n\nIllustration of the different frequency scales\n\n\n"
      ]
    },
    {
      "cell_type": "code",
      "execution_count": null,
      "metadata": {
        "collapsed": false
      },
      "outputs": [],
      "source": [
        "from simplecochlea.utils import utils_cochlea\nimport matplotlib.pyplot as plt\nimport seaborn as sns\nsns.set()\nsns.set_context('paper')"
      ]
    },
    {
      "cell_type": "markdown",
      "metadata": {},
      "source": [
        "Suppose we want a cochlea whose frequency domain range from 20 Hz to 20000 Hz with 100 hair cells\nEach hair cell can be modeled as a band-pass filter. Each one selecting a certain frequency range.\nAn important parameter is the way these band-pass filters are organized and cover the whole frequency range\nof hearing.\n\n"
      ]
    },
    {
      "cell_type": "code",
      "execution_count": null,
      "metadata": {
        "collapsed": false
      },
      "outputs": [],
      "source": [
        "fmin, fmax = 20, 20000\nn_filters = 100\nfs = 44100"
      ]
    },
    {
      "cell_type": "markdown",
      "metadata": {},
      "source": [
        "A unrealistic but simple way to organize the band-pass filters is to use a *linear scale*.\nThe :func:`utils_cochlea.linearscale` returns both the filters cutoff and center frequencies\n\n"
      ]
    },
    {
      "cell_type": "code",
      "execution_count": null,
      "metadata": {
        "collapsed": false
      },
      "outputs": [],
      "source": [
        "wn_lin, cf_lin = utils_cochlea.linearscale(fs, fmin, fmax, n_filters)"
      ]
    },
    {
      "cell_type": "markdown",
      "metadata": {},
      "source": [
        "A more realistic solution to model the tonotopy of the cochlea is to use the ERB scale (Equivalent Rectangular\nBandwitdh) :\n\n"
      ]
    },
    {
      "cell_type": "code",
      "execution_count": null,
      "metadata": {
        "collapsed": false
      },
      "outputs": [],
      "source": [
        "wn_erb, cf_erb = utils_cochlea.erbscale(fs, fmin, fmax, n_filters)"
      ]
    },
    {
      "cell_type": "markdown",
      "metadata": {},
      "source": [
        "Let's plot the evolution of the center frequencies for both scales :\n\n"
      ]
    },
    {
      "cell_type": "code",
      "execution_count": null,
      "metadata": {
        "collapsed": false
      },
      "outputs": [],
      "source": [
        "f = plt.figure()\nax = f.add_subplot(111)\nax.stem(cf_lin, markerfmt='C0o')\nax.stem(cf_erb, markerfmt='C1o')\nax.set(xlabel='Filter Number', ylabel='Frequency', title='Evolution of the Center Frequency of Bandpass filters')\nax.legend(['Linear Scale', 'ERB Scale'])"
      ]
    }
  ],
  "metadata": {
    "kernelspec": {
      "display_name": "Python 3",
      "language": "python",
      "name": "python3"
    },
    "language_info": {
      "codemirror_mode": {
        "name": "ipython",
        "version": 3
      },
      "file_extension": ".py",
      "mimetype": "text/x-python",
      "name": "python",
      "nbconvert_exporter": "python",
      "pygments_lexer": "ipython3",
      "version": "3.6.5"
    }
  },
  "nbformat": 4,
  "nbformat_minor": 0
}