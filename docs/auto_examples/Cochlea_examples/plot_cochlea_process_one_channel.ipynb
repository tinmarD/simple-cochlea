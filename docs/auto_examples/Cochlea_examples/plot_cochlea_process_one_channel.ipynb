{
  "cells": [
    {
      "cell_type": "code",
      "execution_count": null,
      "metadata": {
        "collapsed": false
      },
      "outputs": [],
      "source": [
        "%matplotlib inline"
      ]
    },
    {
      "cell_type": "markdown",
      "metadata": {},
      "source": [
        "\n#   Process a single channel of the cochlea\n\n\nThis example show how to run a signal through a specific channel of the cochlea\n\n\n"
      ]
    },
    {
      "cell_type": "code",
      "execution_count": null,
      "metadata": {
        "collapsed": false
      },
      "outputs": [],
      "source": [
        "import os\nimport numpy as np\nfrom scipy.io import wavfile\nimport seaborn as sns\nfrom simplecochlea import Cochlea, generate_signals\nsns.set_context('paper')"
      ]
    },
    {
      "cell_type": "markdown",
      "metadata": {},
      "source": [
        "Create the cochlea\n\n"
      ]
    },
    {
      "cell_type": "code",
      "execution_count": null,
      "metadata": {
        "collapsed": false
      },
      "outputs": [],
      "source": [
        "fs = 44100\nfmin, fmax, freq_scale, n_channels = 200, 8000, 'erbscale', 100\ncomp_factor, comp_gain = 0.3, 1.5\ntau, v_thresh, v_spike = np.linspace(0.001, 0.0004, n_channels), np.linspace(0.3, 0.17, n_channels), 0.5\n\ncochlea = Cochlea(n_channels, fs, fmin, fmax, freq_scale, comp_factor=comp_factor, comp_gain=comp_gain,\n                  lif_tau=tau, lif_v_thresh=v_thresh, lif_v_spike=v_spike)"
      ]
    },
    {
      "cell_type": "markdown",
      "metadata": {},
      "source": [
        "Create the cochlea\n\n"
      ]
    },
    {
      "cell_type": "code",
      "execution_count": null,
      "metadata": {
        "collapsed": false
      },
      "outputs": [],
      "source": [
        "fs, fmin, fmax, freq_scale, n_channels = 44100, 200, 8000, 'erbscale', 100\ncomp_factor, comp_gain = 0.3, 1.5\ntau, v_thresh, v_spike = np.linspace(0.001, 0.0004, n_channels), 0, 0.5\n# Adaptive threshold parameters\ntau_j, alpha_j = np.array([0.010, 0.200]), np.array([0.010, 0.000002])\nomega = np.linspace(0.15, 0.2, n_channels)\n\ncochlea_adaptive_thresh = Cochlea(n_channels, fs, fmin, fmax, freq_scale, comp_factor=comp_factor, comp_gain=comp_gain,\n                                  lif_tau=tau, lif_v_thresh=v_thresh, lif_v_spike=v_spike, tau_j=tau_j, alpha_j=alpha_j,\n                                  omega=omega)"
      ]
    },
    {
      "cell_type": "markdown",
      "metadata": {},
      "source": [
        "Generate a sinusoidal signal\n\n"
      ]
    },
    {
      "cell_type": "code",
      "execution_count": null,
      "metadata": {
        "collapsed": false
      },
      "outputs": [],
      "source": [
        "x_sin = generate_signals.generate_sinus(fs, 1800, t_offset=0, t_max=0.25, amplitude=1)"
      ]
    },
    {
      "cell_type": "markdown",
      "metadata": {},
      "source": [
        "Pass the input signal through one channel of the cochlea\nThe `plot_channel_evolution` method allows to visualize the differents steps\n of the cochlea processing\n\n"
      ]
    },
    {
      "cell_type": "code",
      "execution_count": null,
      "metadata": {
        "collapsed": false
      },
      "outputs": [],
      "source": [
        "cochlea_adaptive_thresh.plot_channel_evolution(x_sin, 30)"
      ]
    }
  ],
  "metadata": {
    "kernelspec": {
      "display_name": "Python 3",
      "language": "python",
      "name": "python3"
    },
    "language_info": {
      "codemirror_mode": {
        "name": "ipython",
        "version": 3
      },
      "file_extension": ".py",
      "mimetype": "text/x-python",
      "name": "python",
      "nbconvert_exporter": "python",
      "pygments_lexer": "ipython3",
      "version": "3.6.5"
    }
  },
  "nbformat": 4,
  "nbformat_minor": 0
}